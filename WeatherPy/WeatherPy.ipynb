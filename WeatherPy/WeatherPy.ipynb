{
 "cells": [
  {
   "cell_type": "markdown",
   "metadata": {},
   "source": [
    "# WeatherPy\n",
    "\n",
    "---\n",
    "\n",
    "## Starter Code to Generate Random Geographic Coordinates and a List of Cities"
   ]
  },
  {
   "cell_type": "code",
   "execution_count": 1,
   "metadata": {
    "scrolled": true
   },
   "outputs": [],
   "source": [
    "# Dependencies and Setup\n",
    "import matplotlib.pyplot as plt\n",
    "import pandas as pd\n",
    "import numpy as np\n",
    "import requests\n",
    "import time\n",
    "from scipy.stats import linregress\n",
    "import json\n",
    "import datetime\n",
    "\n",
    "# Impor the OpenWeatherMap API key\n",
    "from api_keys import weather_api_key\n",
    "\n",
    "# Import citipy to determine the cities based on latitude and longitude\n",
    "from citipy import citipy"
   ]
  },
  {
   "cell_type": "markdown",
   "metadata": {},
   "source": [
    "### Generate the Cities List by Using the `citipy` Library"
   ]
  },
  {
   "cell_type": "code",
   "execution_count": 3,
   "metadata": {},
   "outputs": [
    {
     "name": "stdout",
     "output_type": "stream",
     "text": [
      "Number of cities in the list: 608\n"
     ]
    }
   ],
   "source": [
    "# Empty list for holding the latitude and longitude combinations\n",
    "lat_lngs = []\n",
    "\n",
    "# Empty list for holding the cities names\n",
    "cities = []\n",
    "\n",
    "# Range of latitudes and longitudes\n",
    "lat_range = (-90, 90)\n",
    "lng_range = (-180, 180)\n",
    "\n",
    "# Create a set of random lat and lng combinations\n",
    "lats = np.random.uniform(lat_range[0], lat_range[1], size=1500)\n",
    "lngs = np.random.uniform(lng_range[0], lng_range[1], size=1500)\n",
    "lat_lngs = zip(lats, lngs)\n",
    "\n",
    "# Identify nearest city for each lat, lng combination\n",
    "for lat_lng in lat_lngs:\n",
    "    city = citipy.nearest_city(lat_lng[0], lat_lng[1]).city_name\n",
    "    \n",
    "    # If the city is unique, then add it to a our cities list\n",
    "    if city not in cities:\n",
    "        cities.append(city)\n",
    "\n",
    "# Print the city count to confirm sufficient count\n",
    "print(f\"Number of cities in the list: {len(cities)}\")"
   ]
  },
  {
   "cell_type": "markdown",
   "metadata": {},
   "source": [
    "## Requirement 1: Create Plots to Showcase the Relationship Between Weather Variables and Latitude\n",
    "\n",
    "### Use the OpenWeatherMap API to retrieve weather data from the cities list generated in the started code"
   ]
  },
  {
   "cell_type": "code",
   "execution_count": 4,
   "metadata": {},
   "outputs": [
    {
     "name": "stdout",
     "output_type": "stream",
     "text": [
      "Beginning Data Retrieval     \n",
      "-----------------------------\n",
      "Processing Record 1 of Set 1 | kavaratti\n",
      "Processing Record 2 of Set 1 | atuona\n",
      "Processing Record 3 of Set 1 | georgetown\n",
      "Processing Record 4 of Set 1 | hilo\n",
      "Processing Record 5 of Set 1 | cabo san lucas\n",
      "Processing Record 6 of Set 1 | kieta\n",
      "Processing Record 7 of Set 1 | rikitea\n",
      "Processing Record 8 of Set 1 | putina\n",
      "Processing Record 9 of Set 1 | sydney\n",
      "Processing Record 10 of Set 1 | olinda\n",
      "Processing Record 11 of Set 1 | jamestown\n",
      "Processing Record 12 of Set 1 | belushya guba\n",
      "City not found. Skipping...\n",
      "Processing Record 13 of Set 1 | hermanus\n",
      "Processing Record 14 of Set 1 | port lincoln\n",
      "Processing Record 15 of Set 1 | albany\n",
      "Processing Record 16 of Set 1 | thompson\n",
      "Processing Record 17 of Set 1 | upernavik\n",
      "Processing Record 18 of Set 1 | yumen\n",
      "Processing Record 19 of Set 1 | arona\n",
      "Processing Record 20 of Set 1 | tilichiki\n",
      "Processing Record 21 of Set 1 | busselton\n",
      "Processing Record 22 of Set 1 | ponta do sol\n",
      "Processing Record 23 of Set 1 | saint-philippe\n",
      "Processing Record 24 of Set 1 | vaini\n",
      "Processing Record 25 of Set 1 | abha\n",
      "Processing Record 26 of Set 1 | elektrogorsk\n",
      "Processing Record 27 of Set 1 | east london\n",
      "Processing Record 28 of Set 1 | la ronge\n",
      "Processing Record 29 of Set 1 | simi\n",
      "Processing Record 30 of Set 1 | port blair\n",
      "Processing Record 31 of Set 1 | chokurdakh\n",
      "Processing Record 32 of Set 1 | afanasyevo\n",
      "City not found. Skipping...\n",
      "Processing Record 33 of Set 1 | price\n",
      "Processing Record 34 of Set 1 | ushuaia\n",
      "Processing Record 35 of Set 1 | ecoporanga\n",
      "Processing Record 36 of Set 1 | ilulissat\n",
      "Processing Record 37 of Set 1 | amderma\n",
      "City not found. Skipping...\n",
      "Processing Record 38 of Set 1 | kropotkin\n",
      "Processing Record 39 of Set 1 | alofi\n",
      "Processing Record 40 of Set 1 | kautokeino\n",
      "Processing Record 41 of Set 1 | lompoc\n",
      "Processing Record 42 of Set 1 | nizhneyansk\n",
      "City not found. Skipping...\n",
      "Processing Record 43 of Set 1 | axim\n",
      "Processing Record 44 of Set 1 | sangre grande\n",
      "Processing Record 45 of Set 1 | klaksvik\n",
      "Processing Record 46 of Set 1 | jiroft\n",
      "City not found. Skipping...\n",
      "Processing Record 47 of Set 1 | boden\n",
      "Processing Record 48 of Set 1 | hasaki\n",
      "Processing Record 49 of Set 1 | airai\n",
      "Processing Record 50 of Set 1 | new norfolk\n",
      "Processing Record 0 of Set 2 | ahipara\n",
      "Processing Record 1 of Set 2 | cape town\n",
      "Processing Record 2 of Set 2 | saldanha\n",
      "Processing Record 3 of Set 2 | izhma\n",
      "Processing Record 4 of Set 2 | ossora\n",
      "Processing Record 5 of Set 2 | leningradskiy\n",
      "Processing Record 6 of Set 2 | vestmannaeyjar\n",
      "Processing Record 7 of Set 2 | tecolutla\n",
      "Processing Record 8 of Set 2 | los llanos de aridane\n",
      "Processing Record 9 of Set 2 | inhambane\n",
      "Processing Record 10 of Set 2 | bengkulu\n",
      "Processing Record 11 of Set 2 | bluff\n",
      "Processing Record 12 of Set 2 | grand river south east\n",
      "City not found. Skipping...\n",
      "Processing Record 13 of Set 2 | khatanga\n",
      "Processing Record 14 of Set 2 | maraa\n",
      "Processing Record 15 of Set 2 | samfya\n",
      "Processing Record 16 of Set 2 | beringovskiy\n",
      "Processing Record 17 of Set 2 | kenai\n",
      "Processing Record 18 of Set 2 | port elizabeth\n",
      "Processing Record 19 of Set 2 | saint george\n",
      "Processing Record 20 of Set 2 | dubrovnik\n",
      "Processing Record 21 of Set 2 | dekar\n",
      "Processing Record 22 of Set 2 | lavrentiya\n",
      "Processing Record 23 of Set 2 | merauke\n",
      "Processing Record 24 of Set 2 | samarkand\n",
      "Processing Record 25 of Set 2 | bandarbeyla\n",
      "Processing Record 26 of Set 2 | kodiak\n",
      "Processing Record 27 of Set 2 | fortuna\n",
      "Processing Record 28 of Set 2 | terrace bay\n",
      "Processing Record 29 of Set 2 | nioki\n",
      "Processing Record 30 of Set 2 | hobart\n",
      "Processing Record 31 of Set 2 | ukiah\n",
      "Processing Record 32 of Set 2 | khartoum\n",
      "Processing Record 33 of Set 2 | butaritari\n",
      "Processing Record 34 of Set 2 | meyungs\n",
      "City not found. Skipping...\n",
      "Processing Record 35 of Set 2 | barrow\n",
      "Processing Record 36 of Set 2 | yellowknife\n",
      "Processing Record 37 of Set 2 | batemans bay\n",
      "Processing Record 38 of Set 2 | guerrero negro\n",
      "Processing Record 39 of Set 2 | carnarvon\n",
      "Processing Record 40 of Set 2 | mataura\n",
      "Processing Record 41 of Set 2 | jablah\n",
      "Processing Record 42 of Set 2 | verkhnechusovskiye gorodki\n",
      "Processing Record 43 of Set 2 | vila velha\n",
      "Processing Record 44 of Set 2 | barentsburg\n",
      "City not found. Skipping...\n",
      "Processing Record 45 of Set 2 | vanavara\n",
      "Processing Record 46 of Set 2 | casper\n",
      "Processing Record 47 of Set 2 | calpan\n",
      "City not found. Skipping...\n",
      "Processing Record 48 of Set 2 | erzin\n",
      "Processing Record 49 of Set 2 | kuche\n",
      "City not found. Skipping...\n",
      "Processing Record 0 of Set 3 | clyde river\n",
      "Processing Record 1 of Set 3 | lata\n",
      "Processing Record 2 of Set 3 | bekhtery\n",
      "Processing Record 3 of Set 3 | zomba\n",
      "Processing Record 4 of Set 3 | geraldton\n",
      "Processing Record 5 of Set 3 | codrington\n",
      "Processing Record 6 of Set 3 | attawapiskat\n",
      "City not found. Skipping...\n",
      "Processing Record 7 of Set 3 | lakshettipet\n",
      "Processing Record 8 of Set 3 | calabozo\n",
      "Processing Record 9 of Set 3 | alpena\n",
      "Processing Record 10 of Set 3 | avarua\n",
      "Processing Record 11 of Set 3 | kruisfontein\n",
      "Processing Record 12 of Set 3 | hurghada\n",
      "Processing Record 13 of Set 3 | saskylakh\n",
      "Processing Record 14 of Set 3 | iqaluit\n",
      "Processing Record 15 of Set 3 | surgut\n",
      "Processing Record 16 of Set 3 | pechenga\n",
      "Processing Record 17 of Set 3 | luderitz\n",
      "Processing Record 18 of Set 3 | north myrtle beach\n",
      "Processing Record 19 of Set 3 | tiksi\n",
      "Processing Record 20 of Set 3 | antalaha\n",
      "Processing Record 21 of Set 3 | ribeira grande\n",
      "Processing Record 22 of Set 3 | alto paraguai\n",
      "Processing Record 23 of Set 3 | vao\n",
      "Processing Record 24 of Set 3 | pisco\n",
      "Processing Record 25 of Set 3 | dhidhdhoo\n",
      "Processing Record 26 of Set 3 | port hawkesbury\n",
      "Processing Record 27 of Set 3 | college\n",
      "Processing Record 28 of Set 3 | padang\n",
      "Processing Record 29 of Set 3 | punta arenas\n",
      "Processing Record 30 of Set 3 | taoudenni\n",
      "Processing Record 31 of Set 3 | campbell river\n",
      "Processing Record 32 of Set 3 | mednogorsk\n",
      "Processing Record 33 of Set 3 | cherskiy\n",
      "Processing Record 34 of Set 3 | ancud\n",
      "Processing Record 35 of Set 3 | mar del plata\n",
      "Processing Record 36 of Set 3 | port alfred\n",
      "Processing Record 37 of Set 3 | saint-georges\n",
      "Processing Record 38 of Set 3 | cidreira\n",
      "Processing Record 39 of Set 3 | ambunti\n",
      "Processing Record 40 of Set 3 | sao miguel do araguaia\n",
      "Processing Record 41 of Set 3 | lebu\n",
      "Processing Record 42 of Set 3 | nguiu\n",
      "City not found. Skipping...\n",
      "Processing Record 43 of Set 3 | kaitangata\n",
      "Processing Record 44 of Set 3 | mingguang\n",
      "Processing Record 45 of Set 3 | bairiki\n",
      "Processing Record 46 of Set 3 | chuy\n",
      "Processing Record 47 of Set 3 | gat\n",
      "Processing Record 48 of Set 3 | flinders\n",
      "Processing Record 49 of Set 3 | pandharpur\n",
      "Processing Record 0 of Set 4 | sabla\n",
      "Processing Record 1 of Set 4 | samarai\n",
      "Processing Record 2 of Set 4 | bredasdorp\n",
      "Processing Record 3 of Set 4 | kupang\n",
      "Processing Record 4 of Set 4 | shingu\n",
      "Processing Record 5 of Set 4 | kampot\n",
      "Processing Record 6 of Set 4 | aklavik\n",
      "Processing Record 7 of Set 4 | tankhoy\n",
      "Processing Record 8 of Set 4 | lagoa\n",
      "Processing Record 9 of Set 4 | tura\n",
      "Processing Record 10 of Set 4 | husavik\n",
      "Processing Record 11 of Set 4 | chiang mai\n",
      "Processing Record 12 of Set 4 | tasiilaq\n",
      "Processing Record 13 of Set 4 | salalah\n",
      "Processing Record 14 of Set 4 | svetlogorsk\n",
      "Processing Record 15 of Set 4 | mys shmidta\n",
      "City not found. Skipping...\n",
      "Processing Record 16 of Set 4 | wyndham\n",
      "Processing Record 17 of Set 4 | isangel\n",
      "Processing Record 18 of Set 4 | taolanaro\n",
      "City not found. Skipping...\n",
      "Processing Record 19 of Set 4 | montepuez\n",
      "Processing Record 20 of Set 4 | gizo\n",
      "Processing Record 21 of Set 4 | hofn\n",
      "Processing Record 22 of Set 4 | touros\n",
      "Processing Record 23 of Set 4 | vila franca do campo\n",
      "Processing Record 24 of Set 4 | ayoquezco\n",
      "City not found. Skipping...\n",
      "Processing Record 25 of Set 4 | paraiso\n",
      "Processing Record 26 of Set 4 | nemuro\n",
      "Processing Record 27 of Set 4 | illoqqortoormiut\n",
      "City not found. Skipping...\n",
      "Processing Record 28 of Set 4 | samusu\n",
      "City not found. Skipping...\n",
      "Processing Record 29 of Set 4 | washougal\n",
      "Processing Record 30 of Set 4 | mahebourg\n",
      "Processing Record 31 of Set 4 | marzuq\n",
      "Processing Record 32 of Set 4 | ygatimi\n",
      "Processing Record 33 of Set 4 | pandan\n",
      "Processing Record 34 of Set 4 | north bend\n",
      "Processing Record 35 of Set 4 | san patricio\n"
     ]
    },
    {
     "name": "stdout",
     "output_type": "stream",
     "text": [
      "Processing Record 36 of Set 4 | munsingen\n",
      "Processing Record 37 of Set 4 | neuquen\n",
      "Processing Record 38 of Set 4 | bosanska kostajnica\n",
      "Processing Record 39 of Set 4 | san vicente\n",
      "Processing Record 40 of Set 4 | genhe\n",
      "Processing Record 41 of Set 4 | jining\n",
      "Processing Record 42 of Set 4 | madimba\n",
      "Processing Record 43 of Set 4 | acapulco\n",
      "Processing Record 44 of Set 4 | tyshkivka\n",
      "Processing Record 45 of Set 4 | keti bandar\n",
      "Processing Record 46 of Set 4 | marcona\n",
      "City not found. Skipping...\n",
      "Processing Record 47 of Set 4 | paidha\n",
      "Processing Record 48 of Set 4 | guisa\n",
      "Processing Record 49 of Set 4 | sao gabriel da cachoeira\n",
      "Processing Record 0 of Set 5 | carmen\n",
      "Processing Record 1 of Set 5 | talnakh\n",
      "Processing Record 2 of Set 5 | sandpoint\n",
      "Processing Record 3 of Set 5 | palauig\n",
      "Processing Record 4 of Set 5 | torbay\n",
      "Processing Record 5 of Set 5 | krasnoselkup\n",
      "Processing Record 6 of Set 5 | avera\n",
      "Processing Record 7 of Set 5 | hithadhoo\n",
      "Processing Record 8 of Set 5 | camapua\n",
      "Processing Record 9 of Set 5 | bendigo\n",
      "Processing Record 10 of Set 5 | victoria\n",
      "Processing Record 11 of Set 5 | yalutorovsk\n",
      "Processing Record 12 of Set 5 | kapaa\n",
      "Processing Record 13 of Set 5 | san pedro\n",
      "Processing Record 14 of Set 5 | bethel\n",
      "Processing Record 15 of Set 5 | mahibadhoo\n",
      "Processing Record 16 of Set 5 | mbalmayo\n",
      "Processing Record 17 of Set 5 | along\n",
      "Processing Record 18 of Set 5 | aripuana\n",
      "Processing Record 19 of Set 5 | groningen\n",
      "Processing Record 20 of Set 5 | nyurba\n",
      "Processing Record 21 of Set 5 | sarahan\n",
      "Processing Record 22 of Set 5 | whitehorse\n",
      "Processing Record 23 of Set 5 | ajaccio\n",
      "Processing Record 24 of Set 5 | maghama\n",
      "City not found. Skipping...\n",
      "Processing Record 25 of Set 5 | muzaffarabad\n",
      "Processing Record 26 of Set 5 | taltal\n",
      "Processing Record 27 of Set 5 | lahij\n",
      "Processing Record 28 of Set 5 | katsuura\n",
      "Processing Record 29 of Set 5 | port macquarie\n",
      "Processing Record 30 of Set 5 | praya\n",
      "Processing Record 31 of Set 5 | mitu\n",
      "Processing Record 32 of Set 5 | rondonopolis\n",
      "Processing Record 33 of Set 5 | tabiauea\n",
      "City not found. Skipping...\n",
      "Processing Record 34 of Set 5 | qaanaaq\n",
      "Processing Record 35 of Set 5 | castro\n",
      "Processing Record 36 of Set 5 | shelburne\n",
      "Processing Record 37 of Set 5 | hargeysa\n",
      "Processing Record 38 of Set 5 | quelimane\n",
      "Processing Record 39 of Set 5 | kerema\n",
      "Processing Record 40 of Set 5 | polovinnoye\n",
      "Processing Record 41 of Set 5 | qostanay\n",
      "Processing Record 42 of Set 5 | yar-sale\n",
      "Processing Record 43 of Set 5 | naze\n",
      "Processing Record 44 of Set 5 | karaul\n",
      "City not found. Skipping...\n",
      "Processing Record 45 of Set 5 | cockburn town\n",
      "Processing Record 46 of Set 5 | qiongshan\n",
      "Processing Record 47 of Set 5 | le vauclin\n",
      "Processing Record 48 of Set 5 | labuhan\n",
      "Processing Record 49 of Set 5 | kilmez\n",
      "City not found. Skipping...\n",
      "Processing Record 0 of Set 6 | grand gaube\n",
      "Processing Record 1 of Set 6 | kutum\n",
      "Processing Record 2 of Set 6 | vostok\n",
      "Processing Record 3 of Set 6 | san cristobal\n",
      "Processing Record 4 of Set 6 | souillac\n",
      "Processing Record 5 of Set 6 | ust-omchug\n",
      "Processing Record 6 of Set 6 | nizhniy kuranakh\n",
      "Processing Record 7 of Set 6 | kishi\n",
      "Processing Record 8 of Set 6 | bossembele\n",
      "City not found. Skipping...\n",
      "Processing Record 9 of Set 6 | arraial do cabo\n",
      "Processing Record 10 of Set 6 | chimoio\n",
      "Processing Record 11 of Set 6 | itarema\n",
      "Processing Record 12 of Set 6 | tumannyy\n",
      "City not found. Skipping...\n",
      "Processing Record 13 of Set 6 | gravdal\n",
      "Processing Record 14 of Set 6 | lahad datu\n",
      "Processing Record 15 of Set 6 | pacific grove\n",
      "Processing Record 16 of Set 6 | pascagoula\n",
      "Processing Record 17 of Set 6 | puerto ayora\n",
      "Processing Record 18 of Set 6 | del rio\n",
      "Processing Record 19 of Set 6 | jackson\n",
      "Processing Record 20 of Set 6 | gold coast\n",
      "Processing Record 21 of Set 6 | bokspits\n",
      "City not found. Skipping...\n",
      "Processing Record 22 of Set 6 | kahului\n",
      "Processing Record 23 of Set 6 | vilhena\n",
      "Processing Record 24 of Set 6 | sisimiut\n",
      "Processing Record 25 of Set 6 | yibin\n",
      "Processing Record 26 of Set 6 | namibe\n",
      "Processing Record 27 of Set 6 | clearlake\n",
      "Processing Record 28 of Set 6 | bengbu\n",
      "Processing Record 29 of Set 6 | bilibino\n",
      "Processing Record 30 of Set 6 | carrollton\n",
      "Processing Record 31 of Set 6 | cutro\n",
      "Processing Record 32 of Set 6 | dedza\n",
      "Processing Record 33 of Set 6 | yantzaza\n",
      "Processing Record 34 of Set 6 | gulshat\n",
      "City not found. Skipping...\n",
      "Processing Record 35 of Set 6 | port hardy\n",
      "Processing Record 36 of Set 6 | valparaiso\n",
      "Processing Record 37 of Set 6 | ketchikan\n",
      "Processing Record 38 of Set 6 | nicoya\n",
      "Processing Record 39 of Set 6 | umm lajj\n",
      "Processing Record 40 of Set 6 | opuwo\n",
      "Processing Record 41 of Set 6 | provideniya\n",
      "Processing Record 42 of Set 6 | te anau\n",
      "Processing Record 43 of Set 6 | paso de carrasco\n",
      "Processing Record 44 of Set 6 | palmas\n",
      "Processing Record 45 of Set 6 | ekhabi\n",
      "Processing Record 46 of Set 6 | gibara\n",
      "Processing Record 47 of Set 6 | ca mau\n",
      "Processing Record 48 of Set 6 | nantucket\n",
      "Processing Record 49 of Set 6 | gurgan\n",
      "City not found. Skipping...\n",
      "Processing Record 0 of Set 7 | quatre cocos\n",
      "Processing Record 1 of Set 7 | mehamn\n",
      "Processing Record 2 of Set 7 | baglung\n",
      "Processing Record 3 of Set 7 | sitka\n",
      "Processing Record 4 of Set 7 | campbeltown\n",
      "Processing Record 5 of Set 7 | sao joao da barra\n",
      "Processing Record 6 of Set 7 | huercal-overa\n",
      "Processing Record 7 of Set 7 | qena\n",
      "Processing Record 8 of Set 7 | san juan del sur\n",
      "Processing Record 9 of Set 7 | tuchola\n",
      "Processing Record 10 of Set 7 | cheuskiny\n",
      "City not found. Skipping...\n",
      "Processing Record 11 of Set 7 | yulara\n",
      "Processing Record 12 of Set 7 | pangnirtung\n",
      "Processing Record 13 of Set 7 | coihaique\n",
      "Processing Record 14 of Set 7 | cortez\n",
      "Processing Record 15 of Set 7 | gao\n",
      "Processing Record 16 of Set 7 | umzimvubu\n",
      "City not found. Skipping...\n",
      "Processing Record 17 of Set 7 | bonthe\n",
      "Processing Record 18 of Set 7 | batagay-alyta\n",
      "Processing Record 19 of Set 7 | shakawe\n",
      "Processing Record 20 of Set 7 | fort nelson\n",
      "Processing Record 21 of Set 7 | phan rang\n",
      "City not found. Skipping...\n",
      "Processing Record 22 of Set 7 | tabialan\n",
      "City not found. Skipping...\n",
      "Processing Record 23 of Set 7 | severomuysk\n",
      "Processing Record 24 of Set 7 | requena\n",
      "Processing Record 25 of Set 7 | tessalit\n",
      "Processing Record 26 of Set 7 | san jose\n",
      "Processing Record 27 of Set 7 | pevek\n",
      "Processing Record 28 of Set 7 | ostrovnoy\n",
      "Processing Record 29 of Set 7 | wonosobo\n",
      "Processing Record 30 of Set 7 | kampene\n",
      "Processing Record 31 of Set 7 | buala\n",
      "Processing Record 32 of Set 7 | nome\n",
      "Processing Record 33 of Set 7 | kachug\n",
      "Processing Record 34 of Set 7 | baker city\n",
      "Processing Record 35 of Set 7 | teguise\n",
      "Processing Record 36 of Set 7 | tsihombe\n",
      "City not found. Skipping...\n",
      "Processing Record 37 of Set 7 | hirara\n",
      "Processing Record 38 of Set 7 | biak\n",
      "Processing Record 39 of Set 7 | akyab\n",
      "Processing Record 40 of Set 7 | saleaula\n",
      "City not found. Skipping...\n",
      "Processing Record 41 of Set 7 | bababe\n",
      "City not found. Skipping...\n",
      "Processing Record 42 of Set 7 | coquimbo\n",
      "Processing Record 43 of Set 7 | palana\n",
      "Processing Record 44 of Set 7 | poum\n",
      "Processing Record 45 of Set 7 | saint-hubert\n",
      "Processing Record 46 of Set 7 | prachuap khiri khan\n",
      "Processing Record 47 of Set 7 | lam luk ka\n",
      "Processing Record 48 of Set 7 | koungou\n",
      "Processing Record 49 of Set 7 | vaitupu\n",
      "City not found. Skipping...\n",
      "Processing Record 0 of Set 8 | mangile\n",
      "City not found. Skipping...\n",
      "Processing Record 1 of Set 8 | katobu\n",
      "Processing Record 2 of Set 8 | urmary\n",
      "Processing Record 3 of Set 8 | nanortalik\n",
      "Processing Record 4 of Set 8 | sentyabrskiy\n",
      "City not found. Skipping...\n",
      "Processing Record 5 of Set 8 | chipinge\n",
      "Processing Record 6 of Set 8 | dingle\n",
      "Processing Record 7 of Set 8 | la ligua\n",
      "Processing Record 8 of Set 8 | karkaralinsk\n",
      "City not found. Skipping...\n",
      "Processing Record 9 of Set 8 | yialos\n",
      "City not found. Skipping...\n",
      "Processing Record 10 of Set 8 | mecca\n",
      "Processing Record 11 of Set 8 | maun\n",
      "Processing Record 12 of Set 8 | redlands\n",
      "Processing Record 13 of Set 8 | gari\n",
      "Processing Record 14 of Set 8 | muros\n",
      "Processing Record 15 of Set 8 | urucara\n",
      "Processing Record 16 of Set 8 | esperance\n",
      "Processing Record 17 of Set 8 | pokhara\n",
      "Processing Record 18 of Set 8 | grindavik\n",
      "Processing Record 19 of Set 8 | ternate\n",
      "Processing Record 20 of Set 8 | longlac\n",
      "City not found. Skipping...\n",
      "Processing Record 21 of Set 8 | nishihara\n"
     ]
    },
    {
     "name": "stdout",
     "output_type": "stream",
     "text": [
      "Processing Record 22 of Set 8 | salinas\n",
      "Processing Record 23 of Set 8 | banff\n",
      "Processing Record 24 of Set 8 | todos santos\n",
      "Processing Record 25 of Set 8 | mirnyy\n",
      "Processing Record 26 of Set 8 | half moon bay\n",
      "Processing Record 27 of Set 8 | amapa\n",
      "Processing Record 28 of Set 8 | mponela\n",
      "Processing Record 29 of Set 8 | kiunga\n",
      "Processing Record 30 of Set 8 | ayer tawar\n",
      "Processing Record 31 of Set 8 | qui nhon\n",
      "Processing Record 32 of Set 8 | fukue\n",
      "Processing Record 33 of Set 8 | long\n",
      "Processing Record 34 of Set 8 | yazoo city\n",
      "Processing Record 35 of Set 8 | euclides da cunha\n",
      "Processing Record 36 of Set 8 | olafsvik\n",
      "Processing Record 37 of Set 8 | dikson\n",
      "Processing Record 38 of Set 8 | dolinsk\n",
      "Processing Record 39 of Set 8 | nikolskoye\n",
      "Processing Record 40 of Set 8 | san juan\n",
      "Processing Record 41 of Set 8 | roura\n",
      "Processing Record 42 of Set 8 | shetpe\n",
      "Processing Record 43 of Set 8 | sheridan\n",
      "Processing Record 44 of Set 8 | vardo\n",
      "Processing Record 45 of Set 8 | porto torres\n",
      "Processing Record 46 of Set 8 | noumea\n",
      "Processing Record 47 of Set 8 | armacao dos buzios\n",
      "City not found. Skipping...\n",
      "Processing Record 48 of Set 8 | chokwe\n",
      "Processing Record 49 of Set 8 | ercis\n",
      "Processing Record 0 of Set 9 | juegang\n",
      "Processing Record 1 of Set 9 | solwezi\n",
      "Processing Record 2 of Set 9 | sokoni\n",
      "Processing Record 3 of Set 9 | yerbogachen\n",
      "Processing Record 4 of Set 9 | karratha\n",
      "Processing Record 5 of Set 9 | gisborne\n",
      "Processing Record 6 of Set 9 | lubyany\n",
      "Processing Record 7 of Set 9 | tuktoyaktuk\n",
      "Processing Record 8 of Set 9 | kawana waters\n",
      "City not found. Skipping...\n",
      "Processing Record 9 of Set 9 | shimoda\n",
      "Processing Record 10 of Set 9 | tual\n",
      "Processing Record 11 of Set 9 | metro\n",
      "Processing Record 12 of Set 9 | ziro\n",
      "Processing Record 13 of Set 9 | pitesti\n",
      "Processing Record 14 of Set 9 | longyearbyen\n",
      "Processing Record 15 of Set 9 | chauk\n",
      "Processing Record 16 of Set 9 | beaverlodge\n",
      "Processing Record 17 of Set 9 | dongsheng\n",
      "Processing Record 18 of Set 9 | nakusp\n",
      "Processing Record 19 of Set 9 | gorontalo\n",
      "Processing Record 20 of Set 9 | rocha\n",
      "Processing Record 21 of Set 9 | khash\n",
      "Processing Record 22 of Set 9 | tanout\n",
      "Processing Record 23 of Set 9 | socoltenango\n",
      "Processing Record 24 of Set 9 | sumbal\n",
      "Processing Record 25 of Set 9 | bintulu\n",
      "Processing Record 26 of Set 9 | mnogovershinnyy\n",
      "Processing Record 27 of Set 9 | trincomalee\n",
      "Processing Record 28 of Set 9 | neyshabur\n",
      "Processing Record 29 of Set 9 | mazagao\n",
      "Processing Record 30 of Set 9 | santana do livramento\n",
      "Processing Record 31 of Set 9 | hamilton\n",
      "Processing Record 32 of Set 9 | cootamundra\n",
      "Processing Record 33 of Set 9 | solovetskiy\n",
      "City not found. Skipping...\n",
      "Processing Record 34 of Set 9 | chagda\n",
      "City not found. Skipping...\n",
      "Processing Record 35 of Set 9 | nouadhibou\n",
      "Processing Record 36 of Set 9 | codajas\n",
      "Processing Record 37 of Set 9 | bousso\n",
      "Processing Record 38 of Set 9 | fonte boa\n",
      "Processing Record 39 of Set 9 | komsomolskiy\n",
      "Processing Record 40 of Set 9 | zharkent\n",
      "Processing Record 41 of Set 9 | nosy varika\n",
      "Processing Record 42 of Set 9 | chapais\n",
      "Processing Record 43 of Set 9 | arman\n",
      "Processing Record 44 of Set 9 | abnub\n",
      "Processing Record 45 of Set 9 | rio de janeiro\n",
      "Processing Record 46 of Set 9 | virginia beach\n",
      "Processing Record 47 of Set 9 | bolshoy uluy\n",
      "City not found. Skipping...\n",
      "Processing Record 48 of Set 9 | manicore\n",
      "Processing Record 49 of Set 9 | constitucion\n",
      "Processing Record 0 of Set 10 | panzhihua\n",
      "Processing Record 1 of Set 10 | neiafu\n",
      "Processing Record 2 of Set 10 | richards bay\n",
      "Processing Record 3 of Set 10 | tsaratanana\n",
      "Processing Record 4 of Set 10 | san quintin\n",
      "Processing Record 5 of Set 10 | saint-denis\n",
      "Processing Record 6 of Set 10 | watsa\n",
      "Processing Record 7 of Set 10 | alice springs\n",
      "Processing Record 8 of Set 10 | balimo\n",
      "City not found. Skipping...\n",
      "Processing Record 9 of Set 10 | bambous virieux\n",
      "Processing Record 10 of Set 10 | camacha\n",
      "Processing Record 11 of Set 10 | manica\n",
      "Processing Record 12 of Set 10 | rabo de peixe\n",
      "Processing Record 13 of Set 10 | hovd\n",
      "Processing Record 14 of Set 10 | mangrol\n",
      "Processing Record 15 of Set 10 | asau\n",
      "Processing Record 16 of Set 10 | tingi\n",
      "Processing Record 17 of Set 10 | kaspiyskiy\n",
      "Processing Record 18 of Set 10 | benjamin hill\n",
      "Processing Record 19 of Set 10 | paamiut\n",
      "Processing Record 20 of Set 10 | belyy yar\n",
      "Processing Record 21 of Set 10 | lalganj\n",
      "Processing Record 22 of Set 10 | kirakira\n",
      "Processing Record 23 of Set 10 | beatrice\n",
      "Processing Record 24 of Set 10 | rivne\n",
      "Processing Record 25 of Set 10 | springdale\n",
      "Processing Record 26 of Set 10 | eyl\n",
      "Processing Record 27 of Set 10 | brigantine\n",
      "Processing Record 28 of Set 10 | henties bay\n",
      "Processing Record 29 of Set 10 | custodia\n",
      "Processing Record 30 of Set 10 | juba\n",
      "Processing Record 31 of Set 10 | jolalpan\n",
      "Processing Record 32 of Set 10 | vagur\n",
      "Processing Record 33 of Set 10 | szentgal\n",
      "City not found. Skipping...\n",
      "Processing Record 34 of Set 10 | imeni babushkina\n",
      "Processing Record 35 of Set 10 | los aquijes\n",
      "Processing Record 36 of Set 10 | eskasem\n",
      "City not found. Skipping...\n",
      "Processing Record 37 of Set 10 | singuilucan\n",
      "Processing Record 38 of Set 10 | chunoyar\n",
      "Processing Record 39 of Set 10 | baruun-urt\n",
      "Processing Record 40 of Set 10 | san lorenzo\n",
      "Processing Record 41 of Set 10 | wanaka\n",
      "Processing Record 42 of Set 10 | sao filipe\n",
      "Processing Record 43 of Set 10 | maltahohe\n",
      "Processing Record 44 of Set 10 | aqtobe\n",
      "Processing Record 45 of Set 10 | yarada\n",
      "Processing Record 46 of Set 10 | lodwar\n",
      "Processing Record 47 of Set 10 | mombetsu\n",
      "Processing Record 48 of Set 10 | uarini\n",
      "Processing Record 49 of Set 10 | koygorodok\n",
      "Processing Record 0 of Set 11 | ginir\n",
      "Processing Record 1 of Set 11 | sovetskaya gavan\n",
      "Processing Record 2 of Set 11 | vryburg\n",
      "Processing Record 3 of Set 11 | bolshiye chapurniki\n",
      "City not found. Skipping...\n",
      "Processing Record 4 of Set 11 | marystown\n",
      "Processing Record 5 of Set 11 | guapo\n",
      "Processing Record 6 of Set 11 | antofagasta\n",
      "Processing Record 7 of Set 11 | tabuk\n",
      "Processing Record 8 of Set 11 | alamogordo\n",
      "Processing Record 9 of Set 11 | meulaboh\n",
      "Processing Record 10 of Set 11 | gwadar\n",
      "Processing Record 11 of Set 11 | maniitsoq\n",
      "Processing Record 12 of Set 11 | tweed\n",
      "Processing Record 13 of Set 11 | denton\n",
      "Processing Record 14 of Set 11 | cabedelo\n",
      "Processing Record 15 of Set 11 | kiruna\n",
      "Processing Record 16 of Set 11 | eydhafushi\n",
      "Processing Record 17 of Set 11 | rantepao\n",
      "Processing Record 18 of Set 11 | vigo\n",
      "Processing Record 19 of Set 11 | coruripe\n",
      "Processing Record 20 of Set 11 | pho chai\n",
      "Processing Record 21 of Set 11 | puerto escondido\n",
      "Processing Record 22 of Set 11 | ust-kamchatsk\n",
      "City not found. Skipping...\n",
      "Processing Record 23 of Set 11 | warrington\n",
      "Processing Record 24 of Set 11 | kijang\n",
      "Processing Record 25 of Set 11 | kununurra\n",
      "Processing Record 26 of Set 11 | tuatapere\n",
      "Processing Record 27 of Set 11 | srednekolymsk\n",
      "Processing Record 28 of Set 11 | bluffton\n",
      "Processing Record 29 of Set 11 | trairi\n",
      "Processing Record 30 of Set 11 | imbituba\n",
      "Processing Record 31 of Set 11 | makat\n",
      "Processing Record 32 of Set 11 | aitape\n",
      "Processing Record 33 of Set 11 | morondava\n",
      "Processing Record 34 of Set 11 | sinnamary\n",
      "Processing Record 35 of Set 11 | tucurui\n",
      "Processing Record 36 of Set 11 | aksu\n",
      "Processing Record 37 of Set 11 | martapura\n",
      "Processing Record 38 of Set 11 | portland\n",
      "Processing Record 39 of Set 11 | omboue\n",
      "Processing Record 40 of Set 11 | eureka\n",
      "Processing Record 41 of Set 11 | mount gambier\n",
      "Processing Record 42 of Set 11 | kailua\n",
      "Processing Record 43 of Set 11 | zhiryatino\n",
      "Processing Record 44 of Set 11 | mandera\n",
      "Processing Record 45 of Set 11 | satitoa\n",
      "City not found. Skipping...\n",
      "Processing Record 46 of Set 11 | cabra\n",
      "Processing Record 47 of Set 11 | mercedes\n",
      "Processing Record 48 of Set 11 | el badari\n",
      "City not found. Skipping...\n",
      "Processing Record 49 of Set 11 | macaboboni\n",
      "City not found. Skipping...\n",
      "Processing Record 0 of Set 12 | saint-louis\n",
      "Processing Record 1 of Set 12 | kohlu\n",
      "Processing Record 2 of Set 12 | ascension\n",
      "Processing Record 3 of Set 12 | anadyr\n",
      "Processing Record 4 of Set 12 | sao felix do xingu\n",
      "Processing Record 5 of Set 12 | honiara\n",
      "Processing Record 6 of Set 12 | balkanabat\n",
      "Processing Record 7 of Set 12 | at-bashi\n",
      "Processing Record 8 of Set 12 | turka\n",
      "Processing Record 9 of Set 12 | nicolas bravo\n"
     ]
    },
    {
     "name": "stdout",
     "output_type": "stream",
     "text": [
      "Processing Record 10 of Set 12 | weyburn\n",
      "Processing Record 11 of Set 12 | gore\n",
      "Processing Record 12 of Set 12 | raipur\n",
      "Processing Record 13 of Set 12 | shakhtinsk\n",
      "Processing Record 14 of Set 12 | rumonge\n",
      "Processing Record 15 of Set 12 | babanusah\n",
      "City not found. Skipping...\n",
      "Processing Record 16 of Set 12 | carahue\n",
      "Processing Record 17 of Set 12 | yuzhno-yeniseyskiy\n",
      "City not found. Skipping...\n",
      "Processing Record 18 of Set 12 | les cayes\n",
      "Processing Record 19 of Set 12 | bhadasar\n",
      "Processing Record 20 of Set 12 | gola bazar\n",
      "Processing Record 21 of Set 12 | amurzet\n",
      "Processing Record 22 of Set 12 | narsaq\n",
      "Processing Record 23 of Set 12 | pirojpur\n",
      "Processing Record 24 of Set 12 | kawalu\n",
      "Processing Record 25 of Set 12 | camrose\n",
      "Processing Record 26 of Set 12 | margherita\n",
      "Processing Record 27 of Set 12 | valer\n",
      "Processing Record 28 of Set 12 | bambanglipuro\n",
      "Processing Record 29 of Set 12 | san jose acatempa\n",
      "Processing Record 30 of Set 12 | nelson bay\n",
      "Processing Record 31 of Set 12 | bam\n",
      "Processing Record 32 of Set 12 | berbera\n",
      "Processing Record 33 of Set 12 | teya\n",
      "Processing Record 34 of Set 12 | sakakah\n",
      "Processing Record 35 of Set 12 | usinsk\n",
      "Processing Record 36 of Set 12 | kazalinsk\n",
      "City not found. Skipping...\n",
      "Processing Record 37 of Set 12 | iwanai\n",
      "Processing Record 38 of Set 12 | kloulklubed\n",
      "Processing Record 39 of Set 12 | saint-jean-de-braye\n",
      "Processing Record 40 of Set 12 | novobiryusinskiy\n",
      "Processing Record 41 of Set 12 | baska\n",
      "Processing Record 42 of Set 12 | agadez\n",
      "Processing Record 43 of Set 12 | springbok\n",
      "Processing Record 44 of Set 12 | dunedin\n",
      "Processing Record 45 of Set 12 | sibolga\n",
      "Processing Record 46 of Set 12 | siderno\n",
      "Processing Record 47 of Set 12 | muzhi\n",
      "Processing Record 48 of Set 12 | danshui\n",
      "Processing Record 49 of Set 12 | mackenzie\n",
      "Processing Record 0 of Set 13 | wasseiges\n",
      "Processing Record 1 of Set 13 | morki\n",
      "Processing Record 2 of Set 13 | fountain\n",
      "Processing Record 3 of Set 13 | broome\n",
      "Processing Record 4 of Set 13 | palabuhanratu\n",
      "City not found. Skipping...\n",
      "Processing Record 5 of Set 13 | kaduna\n",
      "Processing Record 6 of Set 13 | perehonivka\n",
      "Processing Record 7 of Set 13 | fayetteville\n",
      "-----------------------------\n",
      "Data Retrieval Complete      \n",
      "-----------------------------\n"
     ]
    }
   ],
   "source": [
    "# Set the API base URL\n",
    "url = \"http://api.openweathermap.org/data/2.5/weather?\"\n",
    "units = \"metric\"\n",
    "# Define an empty list to fetch the weather data for each city\n",
    "city_name = []\n",
    "city_lat = []\n",
    "city_lng = []\n",
    "city_max_temp = []\n",
    "city_humidity = []\n",
    "city_clouds = []\n",
    "city_wind = []\n",
    "city_country = []\n",
    "city_date = []\n",
    "\n",
    "# Print to logger\n",
    "print(\"Beginning Data Retrieval     \")\n",
    "print(\"-----------------------------\")\n",
    "\n",
    "# Create counters\n",
    "record_count = 1\n",
    "set_count = 1\n",
    "\n",
    "# Loop through all the cities in our list to fetch weather data\n",
    "for i, city in enumerate(cities):\n",
    "        \n",
    "    # Group cities in sets of 50 for logging purposes\n",
    "    if (i % 50 == 0 and i >= 50):\n",
    "        set_count += 1\n",
    "        record_count = 0\n",
    "\n",
    "    # Create endpoint URL with each city\n",
    "    city_url = f\"{url}appid={weather_api_key}&units={units}&q=\"\n",
    "    \n",
    "    # Log the url, record, and set numbers\n",
    "    print(\"Processing Record %s of Set %s | %s\" % (record_count, set_count, city))\n",
    "\n",
    "    # Add 1 to the record count\n",
    "    record_count += 1\n",
    "\n",
    "    # Run an API request for each of the cities\n",
    "    try:\n",
    "        # Parse the JSON and retrieve data\n",
    "        city_weather = requests.get(city_url + city).json()\n",
    "\n",
    "        # Parse out latitude, longitude, max temp, humidity, cloudiness, wind speed, country, and date\n",
    "        # Append the City information into city_data list\n",
    "        city_name.append(city_weather[\"name\"])\n",
    "        city_lat.append(city_weather[\"coord\"][\"lat\"])\n",
    "        city_lng.append(city_weather[\"coord\"][\"lon\"])\n",
    "        city_max_temp.append(city_weather[\"main\"][\"temp_max\"])\n",
    "        city_humidity.append(city_weather[\"main\"][\"humidity\"])\n",
    "        city_clouds.append(city_weather[\"clouds\"][\"all\"])\n",
    "        city_wind.append(city_weather[\"wind\"][\"speed\"])\n",
    "        city_country.append(city_weather[\"sys\"][\"country\"])\n",
    "        city_date.append(city_weather[\"dt\"])\n",
    "\n",
    "    # If an error is experienced, skip the city\n",
    "    except:\n",
    "        print(\"City not found. Skipping...\")\n",
    "        pass\n",
    "              \n",
    "# Indicate that Data Loading is complete \n",
    "print(\"-----------------------------\")\n",
    "print(\"Data Retrieval Complete      \")\n",
    "print(\"-----------------------------\")"
   ]
  },
  {
   "cell_type": "code",
   "execution_count": 5,
   "metadata": {},
   "outputs": [
    {
     "data": {
      "text/plain": [
       "City          551\n",
       "Lat           551\n",
       "Lng           551\n",
       "Max Temp      551\n",
       "Humidity      551\n",
       "Cloudiness    551\n",
       "Wind Speed    551\n",
       "Country       551\n",
       "Date          551\n",
       "dtype: int64"
      ]
     },
     "execution_count": 5,
     "metadata": {},
     "output_type": "execute_result"
    }
   ],
   "source": [
    "# Convert the cities weather data into a Pandas DataFrame\n",
    "city_dict = {\n",
    "    \"City\": city_name,\n",
    "    \"Lat\": city_lat,\n",
    "    \"Lng\": city_lng,\n",
    "    \"Max Temp\": city_max_temp,\n",
    "    \"Humidity\": city_humidity,\n",
    "    \"Cloudiness\": city_clouds,\n",
    "    \"Wind Speed\": city_wind,\n",
    "    \"Country\": city_country,\n",
    "    \"Date\": city_date\n",
    "}\n",
    "city_data_df = pd.DataFrame(city_dict)\n",
    "\n",
    "# Show Record Count\n",
    "city_data_df.count()"
   ]
  },
  {
   "cell_type": "code",
   "execution_count": 9,
   "metadata": {},
   "outputs": [
    {
     "data": {
      "text/html": [
       "<div>\n",
       "<style scoped>\n",
       "    .dataframe tbody tr th:only-of-type {\n",
       "        vertical-align: middle;\n",
       "    }\n",
       "\n",
       "    .dataframe tbody tr th {\n",
       "        vertical-align: top;\n",
       "    }\n",
       "\n",
       "    .dataframe thead th {\n",
       "        text-align: right;\n",
       "    }\n",
       "</style>\n",
       "<table border=\"1\" class=\"dataframe\">\n",
       "  <thead>\n",
       "    <tr style=\"text-align: right;\">\n",
       "      <th></th>\n",
       "      <th>City</th>\n",
       "      <th>Lat</th>\n",
       "      <th>Lng</th>\n",
       "      <th>Max Temp</th>\n",
       "      <th>Humidity</th>\n",
       "      <th>Cloudiness</th>\n",
       "      <th>Wind Speed</th>\n",
       "      <th>Country</th>\n",
       "      <th>Date</th>\n",
       "    </tr>\n",
       "  </thead>\n",
       "  <tbody>\n",
       "    <tr>\n",
       "      <th>0</th>\n",
       "      <td>Kavaratti</td>\n",
       "      <td>10.5669</td>\n",
       "      <td>72.6420</td>\n",
       "      <td>26.91</td>\n",
       "      <td>75</td>\n",
       "      <td>88</td>\n",
       "      <td>6.33</td>\n",
       "      <td>IN</td>\n",
       "      <td>1675722450</td>\n",
       "    </tr>\n",
       "    <tr>\n",
       "      <th>1</th>\n",
       "      <td>Atuona</td>\n",
       "      <td>-9.8000</td>\n",
       "      <td>-139.0333</td>\n",
       "      <td>25.67</td>\n",
       "      <td>76</td>\n",
       "      <td>10</td>\n",
       "      <td>5.81</td>\n",
       "      <td>PF</td>\n",
       "      <td>1675722450</td>\n",
       "    </tr>\n",
       "    <tr>\n",
       "      <th>2</th>\n",
       "      <td>George Town</td>\n",
       "      <td>5.4112</td>\n",
       "      <td>100.3354</td>\n",
       "      <td>25.96</td>\n",
       "      <td>91</td>\n",
       "      <td>20</td>\n",
       "      <td>3.60</td>\n",
       "      <td>MY</td>\n",
       "      <td>1675722378</td>\n",
       "    </tr>\n",
       "    <tr>\n",
       "      <th>3</th>\n",
       "      <td>Hilo</td>\n",
       "      <td>19.7297</td>\n",
       "      <td>-155.0900</td>\n",
       "      <td>26.27</td>\n",
       "      <td>88</td>\n",
       "      <td>75</td>\n",
       "      <td>1.79</td>\n",
       "      <td>US</td>\n",
       "      <td>1675722451</td>\n",
       "    </tr>\n",
       "    <tr>\n",
       "      <th>4</th>\n",
       "      <td>Cabo San Lucas</td>\n",
       "      <td>22.8909</td>\n",
       "      <td>-109.9124</td>\n",
       "      <td>27.56</td>\n",
       "      <td>47</td>\n",
       "      <td>0</td>\n",
       "      <td>6.69</td>\n",
       "      <td>MX</td>\n",
       "      <td>1675722431</td>\n",
       "    </tr>\n",
       "  </tbody>\n",
       "</table>\n",
       "</div>"
      ],
      "text/plain": [
       "             City      Lat       Lng  Max Temp  Humidity  Cloudiness  \\\n",
       "0       Kavaratti  10.5669   72.6420     26.91        75          88   \n",
       "1          Atuona  -9.8000 -139.0333     25.67        76          10   \n",
       "2     George Town   5.4112  100.3354     25.96        91          20   \n",
       "3            Hilo  19.7297 -155.0900     26.27        88          75   \n",
       "4  Cabo San Lucas  22.8909 -109.9124     27.56        47           0   \n",
       "\n",
       "   Wind Speed Country        Date  \n",
       "0        6.33      IN  1675722450  \n",
       "1        5.81      PF  1675722450  \n",
       "2        3.60      MY  1675722378  \n",
       "3        1.79      US  1675722451  \n",
       "4        6.69      MX  1675722431  "
      ]
     },
     "execution_count": 9,
     "metadata": {},
     "output_type": "execute_result"
    }
   ],
   "source": [
    "# Display sample data\n",
    "city_data_df.head()"
   ]
  },
  {
   "cell_type": "code",
   "execution_count": 2,
   "metadata": {
    "scrolled": true
   },
   "outputs": [
    {
     "ename": "NameError",
     "evalue": "name 'city_data_df' is not defined",
     "output_type": "error",
     "traceback": [
      "\u001b[1;31m---------------------------------------------------------------------------\u001b[0m",
      "\u001b[1;31mNameError\u001b[0m                                 Traceback (most recent call last)",
      "\u001b[1;32m~\\AppData\\Local\\Temp\\ipykernel_10008\\1796705556.py\u001b[0m in \u001b[0;36m<module>\u001b[1;34m\u001b[0m\n\u001b[0;32m      1\u001b[0m \u001b[1;31m# Export the City_Data into a csv\u001b[0m\u001b[1;33m\u001b[0m\u001b[1;33m\u001b[0m\u001b[1;33m\u001b[0m\u001b[0m\n\u001b[1;32m----> 2\u001b[1;33m \u001b[0mcity_data_df\u001b[0m\u001b[1;33m.\u001b[0m\u001b[0mto_csv\u001b[0m\u001b[1;33m(\u001b[0m\u001b[1;34m\"city_data_df.csv\"\u001b[0m\u001b[1;33m,\u001b[0m \u001b[0mindex_label\u001b[0m\u001b[1;33m=\u001b[0m\u001b[1;34m\"City_ID\"\u001b[0m\u001b[1;33m)\u001b[0m\u001b[1;33m\u001b[0m\u001b[1;33m\u001b[0m\u001b[0m\n\u001b[0m",
      "\u001b[1;31mNameError\u001b[0m: name 'city_data_df' is not defined"
     ]
    }
   ],
   "source": [
    "# Export the City_Data into a csv\n",
    "city_data_df.to_csv(\"city_data_df.csv\", index_label=\"City_ID\")"
   ]
  },
  {
   "cell_type": "code",
   "execution_count": 2,
   "metadata": {},
   "outputs": [
    {
     "data": {
      "text/html": [
       "<div>\n",
       "<style scoped>\n",
       "    .dataframe tbody tr th:only-of-type {\n",
       "        vertical-align: middle;\n",
       "    }\n",
       "\n",
       "    .dataframe tbody tr th {\n",
       "        vertical-align: top;\n",
       "    }\n",
       "\n",
       "    .dataframe thead th {\n",
       "        text-align: right;\n",
       "    }\n",
       "</style>\n",
       "<table border=\"1\" class=\"dataframe\">\n",
       "  <thead>\n",
       "    <tr style=\"text-align: right;\">\n",
       "      <th></th>\n",
       "      <th>City</th>\n",
       "      <th>Lat</th>\n",
       "      <th>Lng</th>\n",
       "      <th>Max Temp</th>\n",
       "      <th>Humidity</th>\n",
       "      <th>Cloudiness</th>\n",
       "      <th>Wind Speed</th>\n",
       "      <th>Country</th>\n",
       "      <th>Date</th>\n",
       "    </tr>\n",
       "    <tr>\n",
       "      <th>City_ID</th>\n",
       "      <th></th>\n",
       "      <th></th>\n",
       "      <th></th>\n",
       "      <th></th>\n",
       "      <th></th>\n",
       "      <th></th>\n",
       "      <th></th>\n",
       "      <th></th>\n",
       "      <th></th>\n",
       "    </tr>\n",
       "  </thead>\n",
       "  <tbody>\n",
       "    <tr>\n",
       "      <th>0</th>\n",
       "      <td>Kavaratti</td>\n",
       "      <td>10.5669</td>\n",
       "      <td>72.6420</td>\n",
       "      <td>26.91</td>\n",
       "      <td>75</td>\n",
       "      <td>88</td>\n",
       "      <td>6.33</td>\n",
       "      <td>IN</td>\n",
       "      <td>1675722450</td>\n",
       "    </tr>\n",
       "    <tr>\n",
       "      <th>1</th>\n",
       "      <td>Atuona</td>\n",
       "      <td>-9.8000</td>\n",
       "      <td>-139.0333</td>\n",
       "      <td>25.67</td>\n",
       "      <td>76</td>\n",
       "      <td>10</td>\n",
       "      <td>5.81</td>\n",
       "      <td>PF</td>\n",
       "      <td>1675722450</td>\n",
       "    </tr>\n",
       "    <tr>\n",
       "      <th>2</th>\n",
       "      <td>George Town</td>\n",
       "      <td>5.4112</td>\n",
       "      <td>100.3354</td>\n",
       "      <td>25.96</td>\n",
       "      <td>91</td>\n",
       "      <td>20</td>\n",
       "      <td>3.60</td>\n",
       "      <td>MY</td>\n",
       "      <td>1675722378</td>\n",
       "    </tr>\n",
       "    <tr>\n",
       "      <th>3</th>\n",
       "      <td>Hilo</td>\n",
       "      <td>19.7297</td>\n",
       "      <td>-155.0900</td>\n",
       "      <td>26.27</td>\n",
       "      <td>88</td>\n",
       "      <td>75</td>\n",
       "      <td>1.79</td>\n",
       "      <td>US</td>\n",
       "      <td>1675722451</td>\n",
       "    </tr>\n",
       "    <tr>\n",
       "      <th>4</th>\n",
       "      <td>Cabo San Lucas</td>\n",
       "      <td>22.8909</td>\n",
       "      <td>-109.9124</td>\n",
       "      <td>27.56</td>\n",
       "      <td>47</td>\n",
       "      <td>0</td>\n",
       "      <td>6.69</td>\n",
       "      <td>MX</td>\n",
       "      <td>1675722431</td>\n",
       "    </tr>\n",
       "  </tbody>\n",
       "</table>\n",
       "</div>"
      ],
      "text/plain": [
       "                   City      Lat       Lng  Max Temp  Humidity  Cloudiness  \\\n",
       "City_ID                                                                      \n",
       "0             Kavaratti  10.5669   72.6420     26.91        75          88   \n",
       "1                Atuona  -9.8000 -139.0333     25.67        76          10   \n",
       "2           George Town   5.4112  100.3354     25.96        91          20   \n",
       "3                  Hilo  19.7297 -155.0900     26.27        88          75   \n",
       "4        Cabo San Lucas  22.8909 -109.9124     27.56        47           0   \n",
       "\n",
       "         Wind Speed Country        Date  \n",
       "City_ID                                  \n",
       "0              6.33      IN  1675722450  \n",
       "1              5.81      PF  1675722450  \n",
       "2              3.60      MY  1675722378  \n",
       "3              1.79      US  1675722451  \n",
       "4              6.69      MX  1675722431  "
      ]
     },
     "execution_count": 2,
     "metadata": {},
     "output_type": "execute_result"
    }
   ],
   "source": [
    "# Read saved data\n",
    "\n",
    "city_data_df = pd.read_csv(\"city_data_df.csv\", index_col=\"City_ID\")\n",
    "\n",
    "# Display sample data\n",
    "city_data_df.head()"
   ]
  },
  {
   "cell_type": "markdown",
   "metadata": {},
   "source": [
    "### Create the Scatter Plots Requested\n",
    "\n",
    "#### Latitude Vs. Temperature"
   ]
  },
  {
   "cell_type": "code",
   "execution_count": 3,
   "metadata": {
    "tags": []
   },
   "outputs": [
    {
     "data": {
      "image/png": "[encoded data removed]",
      "text/plain": [
       "<Figure size 640x480 with 1 Axes>"
      ]
     },
     "metadata": {},
     "output_type": "display_data"
    }
   ],
   "source": [
    "# Build scatter plot for latitude vs. temperature\n",
    "x_values = city_data_df[\"Lat\"]\n",
    "y_values = city_data_df[\"Max Temp\"]\n",
    "plt.scatter(x_values, y_values)\n",
    "# Incorporate the other graph properties\n",
    "today = time.strftime(\"%m/%d/%Y\")\n",
    "plt.title(f\"City Max Latitude vs. Temperature ({today})\")\n",
    "plt.xlabel(\"Latitude\")\n",
    "plt.ylabel(\"Max Temperature (C)\")\n",
    "plt.grid()\n",
    "\n",
    "# Save the figure\n",
    "plt.savefig(\"output_data/Fig1.png\")\n",
    "\n",
    "# Show plot\n",
    "plt.show()"
   ]
  },
  {
   "cell_type": "markdown",
   "metadata": {},
   "source": [
    "#### Latitude Vs. Humidity"
   ]
  },
  {
   "cell_type": "code",
   "execution_count": 4,
   "metadata": {},
   "outputs": [
    {
     "data": {
      "image/png": "[encoded data removed]",
      "text/plain": [
       "<Figure size 640x480 with 1 Axes>"
      ]
     },
     "metadata": {},
     "output_type": "display_data"
    }
   ],
   "source": [
    "# Build the scatter plots for latitude vs. humidity\n",
    "x_values = city_data_df[\"Lat\"]\n",
    "y_values = city_data_df[\"Humidity\"]\n",
    "plt.scatter(x_values, y_values)\n",
    "\n",
    "# Incorporate the other graph properties\n",
    "today = time.strftime(\"%m/%d/%Y\")\n",
    "plt.title(f\"City Max Latitude vs. Humidity ({today})\")\n",
    "plt.xlabel(\"Latitude\")\n",
    "plt.ylabel(\"Humidity (%)\")\n",
    "plt.grid()\n",
    "\n",
    "# Save the figure\n",
    "plt.savefig(\"output_data/Fig2.png\")\n",
    "\n",
    "# Show plot\n",
    "plt.show()"
   ]
  },
  {
   "cell_type": "markdown",
   "metadata": {},
   "source": [
    "#### Latitude Vs. Cloudiness"
   ]
  },
  {
   "cell_type": "code",
   "execution_count": 3,
   "metadata": {},
   "outputs": [
    {
     "data": {
      "image/png": "[encoded data removed]",
      "text/plain": [
       "<Figure size 432x288 with 1 Axes>"
      ]
     },
     "metadata": {
      "needs_background": "light"
     },
     "output_type": "display_data"
    }
   ],
   "source": [
    "# Build the scatter plots for latitude vs. cloudiness\n",
    "x_values = city_data_df[\"Lat\"]\n",
    "y_values = city_data_df[\"Cloudiness\"]\n",
    "plt.scatter(x_values, y_values)\n",
    "\n",
    "# Incorporate the other graph properties\n",
    "today = time.strftime(\"%m/%d/%Y\")\n",
    "plt.title(f\"City Max Latitude vs. Cloudiness ({today})\")\n",
    "plt.xlabel(\"Latitude\")\n",
    "plt.ylabel(\"Cloudiness (%)\")\n",
    "plt.grid()\n",
    "\n",
    "# Save the figure\n",
    "plt.savefig(\"output_data/Fig3.png\")\n",
    "\n",
    "# Show plot\n",
    "plt.show()"
   ]
  },
  {
   "cell_type": "markdown",
   "metadata": {},
   "source": [
    "#### Latitude vs. Wind Speed Plot"
   ]
  },
  {
   "cell_type": "code",
   "execution_count": 4,
   "metadata": {},
   "outputs": [
    {
     "data": {
      "image/png": "[encoded data removed]",
      "text/plain": [
       "<Figure size 432x288 with 1 Axes>"
      ]
     },
     "metadata": {
      "needs_background": "light"
     },
     "output_type": "display_data"
    }
   ],
   "source": [
    "# Build the scatter plots for latitude vs. wind speed\n",
    "x_values = city_data_df[\"Lat\"]\n",
    "y_values = city_data_df[\"Wind Speed\"]\n",
    "plt.scatter(x_values, y_values)\n",
    "\n",
    "# Incorporate the other graph properties\n",
    "today = time.strftime(\"%m/%d/%Y\")\n",
    "plt.title(f\"City Max Latitude vs. Wind Speed ({today})\")\n",
    "plt.xlabel(\"Latitude\")\n",
    "plt.ylabel(\"Wind Speed (m/s)\")\n",
    "plt.grid()\n",
    "\n",
    "# Save the figure\n",
    "plt.savefig(\"output_data/Fig4.png\")\n",
    "\n",
    "# Show plot\n",
    "plt.show()"
   ]
  },
  {
   "cell_type": "markdown",
   "metadata": {},
   "source": [
    "---\n",
    "\n",
    "## Requirement 2: Compute Linear Regression for Each Relationship\n"
   ]
  },
  {
   "cell_type": "code",
   "execution_count": 26,
   "metadata": {},
   "outputs": [],
   "source": [
    "# Define a function to create Linear Regression plots\n",
    "def linear_regrression(x_values, y_values):\n",
    "    (slope, intercept, rvalue, pvalue, stderr) = linregress(x_values, y_values)\n",
    "    regress_values = x_values * slope + intercept\n",
    "    line_eq = \"y = \" + str(round(slope,2)) + \"x + \" + str(round(intercept,2))\n",
    "    plt.scatter(x_values, y_values)\n",
    "    plt.plot(x_values,regress_values,\"r-\")\n",
    "    print(f\"The r-value is: {rvalue**2}\")\n",
    "    plt.annotate(line_eq,(5.8,0.8),fontsize=15,color=\"red\")\n",
    "    return line_eq\n"
   ]
  },
  {
   "cell_type": "code",
   "execution_count": 7,
   "metadata": {},
   "outputs": [
    {
     "data": {
      "text/html": [
       "<div>\n",
       "<style scoped>\n",
       "    .dataframe tbody tr th:only-of-type {\n",
       "        vertical-align: middle;\n",
       "    }\n",
       "\n",
       "    .dataframe tbody tr th {\n",
       "        vertical-align: top;\n",
       "    }\n",
       "\n",
       "    .dataframe thead th {\n",
       "        text-align: right;\n",
       "    }\n",
       "</style>\n",
       "<table border=\"1\" class=\"dataframe\">\n",
       "  <thead>\n",
       "    <tr style=\"text-align: right;\">\n",
       "      <th></th>\n",
       "      <th>City</th>\n",
       "      <th>Lat</th>\n",
       "      <th>Lng</th>\n",
       "      <th>Max Temp</th>\n",
       "      <th>Humidity</th>\n",
       "      <th>Cloudiness</th>\n",
       "      <th>Wind Speed</th>\n",
       "      <th>Country</th>\n",
       "      <th>Date</th>\n",
       "    </tr>\n",
       "    <tr>\n",
       "      <th>City_ID</th>\n",
       "      <th></th>\n",
       "      <th></th>\n",
       "      <th></th>\n",
       "      <th></th>\n",
       "      <th></th>\n",
       "      <th></th>\n",
       "      <th></th>\n",
       "      <th></th>\n",
       "      <th></th>\n",
       "    </tr>\n",
       "  </thead>\n",
       "  <tbody>\n",
       "    <tr>\n",
       "      <th>0</th>\n",
       "      <td>Kavaratti</td>\n",
       "      <td>10.5669</td>\n",
       "      <td>72.6420</td>\n",
       "      <td>26.91</td>\n",
       "      <td>75</td>\n",
       "      <td>88</td>\n",
       "      <td>6.33</td>\n",
       "      <td>IN</td>\n",
       "      <td>1675722450</td>\n",
       "    </tr>\n",
       "    <tr>\n",
       "      <th>2</th>\n",
       "      <td>George Town</td>\n",
       "      <td>5.4112</td>\n",
       "      <td>100.3354</td>\n",
       "      <td>25.96</td>\n",
       "      <td>91</td>\n",
       "      <td>20</td>\n",
       "      <td>3.60</td>\n",
       "      <td>MY</td>\n",
       "      <td>1675722378</td>\n",
       "    </tr>\n",
       "    <tr>\n",
       "      <th>3</th>\n",
       "      <td>Hilo</td>\n",
       "      <td>19.7297</td>\n",
       "      <td>-155.0900</td>\n",
       "      <td>26.27</td>\n",
       "      <td>88</td>\n",
       "      <td>75</td>\n",
       "      <td>1.79</td>\n",
       "      <td>US</td>\n",
       "      <td>1675722451</td>\n",
       "    </tr>\n",
       "    <tr>\n",
       "      <th>4</th>\n",
       "      <td>Cabo San Lucas</td>\n",
       "      <td>22.8909</td>\n",
       "      <td>-109.9124</td>\n",
       "      <td>27.56</td>\n",
       "      <td>47</td>\n",
       "      <td>0</td>\n",
       "      <td>6.69</td>\n",
       "      <td>MX</td>\n",
       "      <td>1675722431</td>\n",
       "    </tr>\n",
       "    <tr>\n",
       "      <th>10</th>\n",
       "      <td>Jamestown</td>\n",
       "      <td>42.0970</td>\n",
       "      <td>-79.2353</td>\n",
       "      <td>-0.55</td>\n",
       "      <td>93</td>\n",
       "      <td>100</td>\n",
       "      <td>3.09</td>\n",
       "      <td>US</td>\n",
       "      <td>1675722361</td>\n",
       "    </tr>\n",
       "  </tbody>\n",
       "</table>\n",
       "</div>"
      ],
      "text/plain": [
       "                   City      Lat       Lng  Max Temp  Humidity  Cloudiness  \\\n",
       "City_ID                                                                      \n",
       "0             Kavaratti  10.5669   72.6420     26.91        75          88   \n",
       "2           George Town   5.4112  100.3354     25.96        91          20   \n",
       "3                  Hilo  19.7297 -155.0900     26.27        88          75   \n",
       "4        Cabo San Lucas  22.8909 -109.9124     27.56        47           0   \n",
       "10            Jamestown  42.0970  -79.2353     -0.55        93         100   \n",
       "\n",
       "         Wind Speed Country        Date  \n",
       "City_ID                                  \n",
       "0              6.33      IN  1675722450  \n",
       "2              3.60      MY  1675722378  \n",
       "3              1.79      US  1675722451  \n",
       "4              6.69      MX  1675722431  \n",
       "10             3.09      US  1675722361  "
      ]
     },
     "execution_count": 7,
     "metadata": {},
     "output_type": "execute_result"
    }
   ],
   "source": [
    "# Create a DataFrame with the Northern Hemisphere data (Latitude >= 0)\n",
    "northern_hemi_df = city_data_df.loc[city_data_df[\"Lat\"]>=0]\n",
    "\n",
    "# Display sample data\n",
    "northern_hemi_df.head()"
   ]
  },
  {
   "cell_type": "code",
   "execution_count": 6,
   "metadata": {},
   "outputs": [
    {
     "data": {
      "text/html": [
       "<div>\n",
       "<style scoped>\n",
       "    .dataframe tbody tr th:only-of-type {\n",
       "        vertical-align: middle;\n",
       "    }\n",
       "\n",
       "    .dataframe tbody tr th {\n",
       "        vertical-align: top;\n",
       "    }\n",
       "\n",
       "    .dataframe thead th {\n",
       "        text-align: right;\n",
       "    }\n",
       "</style>\n",
       "<table border=\"1\" class=\"dataframe\">\n",
       "  <thead>\n",
       "    <tr style=\"text-align: right;\">\n",
       "      <th></th>\n",
       "      <th>City</th>\n",
       "      <th>Lat</th>\n",
       "      <th>Lng</th>\n",
       "      <th>Max Temp</th>\n",
       "      <th>Humidity</th>\n",
       "      <th>Cloudiness</th>\n",
       "      <th>Wind Speed</th>\n",
       "      <th>Country</th>\n",
       "      <th>Date</th>\n",
       "    </tr>\n",
       "    <tr>\n",
       "      <th>City_ID</th>\n",
       "      <th></th>\n",
       "      <th></th>\n",
       "      <th></th>\n",
       "      <th></th>\n",
       "      <th></th>\n",
       "      <th></th>\n",
       "      <th></th>\n",
       "      <th></th>\n",
       "      <th></th>\n",
       "    </tr>\n",
       "  </thead>\n",
       "  <tbody>\n",
       "    <tr>\n",
       "      <th>1</th>\n",
       "      <td>Atuona</td>\n",
       "      <td>-9.8000</td>\n",
       "      <td>-139.0333</td>\n",
       "      <td>25.67</td>\n",
       "      <td>76</td>\n",
       "      <td>10</td>\n",
       "      <td>5.81</td>\n",
       "      <td>PF</td>\n",
       "      <td>1675722450</td>\n",
       "    </tr>\n",
       "    <tr>\n",
       "      <th>5</th>\n",
       "      <td>Kieta</td>\n",
       "      <td>-6.2167</td>\n",
       "      <td>155.6333</td>\n",
       "      <td>26.10</td>\n",
       "      <td>87</td>\n",
       "      <td>100</td>\n",
       "      <td>2.70</td>\n",
       "      <td>PG</td>\n",
       "      <td>1675722451</td>\n",
       "    </tr>\n",
       "    <tr>\n",
       "      <th>6</th>\n",
       "      <td>Rikitea</td>\n",
       "      <td>-23.1203</td>\n",
       "      <td>-134.9692</td>\n",
       "      <td>26.14</td>\n",
       "      <td>74</td>\n",
       "      <td>69</td>\n",
       "      <td>4.13</td>\n",
       "      <td>PF</td>\n",
       "      <td>1675722451</td>\n",
       "    </tr>\n",
       "    <tr>\n",
       "      <th>7</th>\n",
       "      <td>Putina</td>\n",
       "      <td>-15.4667</td>\n",
       "      <td>-69.4333</td>\n",
       "      <td>10.30</td>\n",
       "      <td>68</td>\n",
       "      <td>78</td>\n",
       "      <td>5.45</td>\n",
       "      <td>PE</td>\n",
       "      <td>1675722452</td>\n",
       "    </tr>\n",
       "    <tr>\n",
       "      <th>8</th>\n",
       "      <td>Sydney</td>\n",
       "      <td>-33.8679</td>\n",
       "      <td>151.2073</td>\n",
       "      <td>24.83</td>\n",
       "      <td>77</td>\n",
       "      <td>75</td>\n",
       "      <td>3.09</td>\n",
       "      <td>AU</td>\n",
       "      <td>1675721878</td>\n",
       "    </tr>\n",
       "  </tbody>\n",
       "</table>\n",
       "</div>"
      ],
      "text/plain": [
       "            City      Lat       Lng  Max Temp  Humidity  Cloudiness  \\\n",
       "City_ID                                                               \n",
       "1         Atuona  -9.8000 -139.0333     25.67        76          10   \n",
       "5          Kieta  -6.2167  155.6333     26.10        87         100   \n",
       "6        Rikitea -23.1203 -134.9692     26.14        74          69   \n",
       "7         Putina -15.4667  -69.4333     10.30        68          78   \n",
       "8         Sydney -33.8679  151.2073     24.83        77          75   \n",
       "\n",
       "         Wind Speed Country        Date  \n",
       "City_ID                                  \n",
       "1              5.81      PF  1675722450  \n",
       "5              2.70      PG  1675722451  \n",
       "6              4.13      PF  1675722451  \n",
       "7              5.45      PE  1675722452  \n",
       "8              3.09      AU  1675721878  "
      ]
     },
     "execution_count": 6,
     "metadata": {},
     "output_type": "execute_result"
    }
   ],
   "source": [
    "# Create a DataFrame with the Southern Hemisphere data (Latitude < 0)\n",
    "southern_hemi_df = city_data_df.loc[city_data_df[\"Lat\"] < 0]\n",
    "\n",
    "# Display sample data\n",
    "southern_hemi_df.head()"
   ]
  },
  {
   "cell_type": "markdown",
   "metadata": {},
   "source": [
    "###  Temperature vs. Latitude Linear Regression Plot"
   ]
  },
  {
   "cell_type": "code",
   "execution_count": 27,
   "metadata": {},
   "outputs": [
    {
     "name": "stdout",
     "output_type": "stream",
     "text": [
      "The r-value is: 0.7316790992118285\n"
     ]
    },
    {
     "data": {
      "text/plain": [
       "Text(0, 0.5, 'Max Temp')"
      ]
     },
     "execution_count": 27,
     "metadata": {},
     "output_type": "execute_result"
    },
    {
     "data": {
      "image/png": "[encoded data removed]",
      "text/plain": [
       "<Figure size 432x288 with 1 Axes>"
      ]
     },
     "metadata": {
      "needs_background": "light"
     },
     "output_type": "display_data"
    }
   ],
   "source": [
    "# Linear regression on Northern Hemisphere\n",
    "n_h_t = linear_regrression(northern_hemi_df[\"Lat\"], northern_hemi_df[\"Max Temp\"])\n",
    "plt.xlabel(\"Latitude\")\n",
    "plt.ylabel(\"Max Temp\")\n"
   ]
  },
  {
   "cell_type": "code",
   "execution_count": 30,
   "metadata": {},
   "outputs": [
    {
     "name": "stdout",
     "output_type": "stream",
     "text": [
      "The r-value is: 0.17015349205479396\n"
     ]
    },
    {
     "data": {
      "text/plain": [
       "Text(0, 0.5, 'Max Temp')"
      ]
     },
     "execution_count": 30,
     "metadata": {},
     "output_type": "execute_result"
    },
    {
     "data": {
      "image/png": "[encoded data removed]",
      "text/plain": [
       "<Figure size 432x288 with 1 Axes>"
      ]
     },
     "metadata": {
      "needs_background": "light"
     },
     "output_type": "display_data"
    }
   ],
   "source": [
    "# Linear regression on Southern Hemisphere\n",
    "s_h_t = linear_regrression(southern_hemi_df[\"Lat\"], southern_hemi_df[\"Max Temp\"])\n",
    "plt.xlabel(\"Latitude\")\n",
    "plt.ylabel(\"Max Temp\")\n"
   ]
  },
  {
   "cell_type": "markdown",
   "metadata": {},
   "source": [
    "**Discussion about the linear relationship:** The closer you get to the equator the warmer it is going to be. In the northern hemisphere right now that is very true with the coldest being -40 the furthest away. while in the south the coldest temp is 10. this tempurate diffrence by hemisphere is most likely caused by the fact that it is summer in the south and winter in the north. would like to see if the data flips when the north is in summer and south in winter."
   ]
  },
  {
   "cell_type": "markdown",
   "metadata": {},
   "source": [
    "### Humidity vs. Latitude Linear Regression Plot"
   ]
  },
  {
   "cell_type": "code",
   "execution_count": 31,
   "metadata": {},
   "outputs": [
    {
     "name": "stdout",
     "output_type": "stream",
     "text": [
      "The r-value is: 0.17648908728779528\n"
     ]
    },
    {
     "data": {
      "text/plain": [
       "Text(0, 0.5, 'Humidity')"
      ]
     },
     "execution_count": 31,
     "metadata": {},
     "output_type": "execute_result"
    },
    {
     "data": {
      "image/png": "[encoded data removed]",
      "text/plain": [
       "<Figure size 432x288 with 1 Axes>"
      ]
     },
     "metadata": {
      "needs_background": "light"
     },
     "output_type": "display_data"
    }
   ],
   "source": [
    "# Northern Hemisphere\n",
    "n_h_h = linear_regrression(northern_hemi_df[\"Lat\"], northern_hemi_df[\"Humidity\"])\n",
    "plt.xlabel(\"Latitude\")\n",
    "plt.ylabel(\"Humidity\")"
   ]
  },
  {
   "cell_type": "code",
   "execution_count": 32,
   "metadata": {},
   "outputs": [
    {
     "name": "stdout",
     "output_type": "stream",
     "text": [
      "The r-value is: 0.19701172249635274\n"
     ]
    },
    {
     "data": {
      "text/plain": [
       "Text(0, 0.5, 'Humidity')"
      ]
     },
     "execution_count": 32,
     "metadata": {},
     "output_type": "execute_result"
    },
    {
     "data": {
      "image/png": "[encoded data removed]",
      "text/plain": [
       "<Figure size 432x288 with 1 Axes>"
      ]
     },
     "metadata": {
      "needs_background": "light"
     },
     "output_type": "display_data"
    }
   ],
   "source": [
    "# Southern Hemisphere\n",
    "s_h_h = linear_regrression(southern_hemi_df[\"Lat\"], southern_hemi_df[\"Humidity\"])\n",
    "plt.xlabel(\"Latitude\")\n",
    "plt.ylabel(\"Humidity\")"
   ]
  },
  {
   "cell_type": "markdown",
   "metadata": {},
   "source": [
    "**Discussion about the linear relationship:** north and south appear to by very close on humidity with the r_values only being about .02 off."
   ]
  },
  {
   "cell_type": "markdown",
   "metadata": {},
   "source": [
    "### Cloudiness vs. Latitude Linear Regression Plot"
   ]
  },
  {
   "cell_type": "code",
   "execution_count": 33,
   "metadata": {},
   "outputs": [
    {
     "name": "stdout",
     "output_type": "stream",
     "text": [
      "The r-value is: 0.08248787039911966\n"
     ]
    },
    {
     "data": {
      "text/plain": [
       "Text(0, 0.5, 'Cloudiness')"
      ]
     },
     "execution_count": 33,
     "metadata": {},
     "output_type": "execute_result"
    },
    {
     "data": {
      "image/png": "[encoded data removed]",
      "text/plain": [
       "<Figure size 432x288 with 1 Axes>"
      ]
     },
     "metadata": {
      "needs_background": "light"
     },
     "output_type": "display_data"
    }
   ],
   "source": [
    "# Northern Hemisphere\n",
    "n_h_c = linear_regrression(northern_hemi_df[\"Lat\"], northern_hemi_df[\"Cloudiness\"])\n",
    "plt.xlabel(\"Latitude\")\n",
    "plt.ylabel(\"Cloudiness\")"
   ]
  },
  {
   "cell_type": "code",
   "execution_count": 34,
   "metadata": {},
   "outputs": [
    {
     "name": "stdout",
     "output_type": "stream",
     "text": [
      "The r-value is: 0.1669161956125338\n"
     ]
    },
    {
     "data": {
      "text/plain": [
       "Text(0, 0.5, 'Cloudiness')"
      ]
     },
     "execution_count": 34,
     "metadata": {},
     "output_type": "execute_result"
    },
    {
     "data": {
      "image/png": "[encoded data removed]",
      "text/plain": [
       "<Figure size 432x288 with 1 Axes>"
      ]
     },
     "metadata": {
      "needs_background": "light"
     },
     "output_type": "display_data"
    }
   ],
   "source": [
    "# Southern Hemisphere\n",
    "s_h_h = linear_regrression(southern_hemi_df[\"Lat\"], southern_hemi_df[\"Cloudiness\"])\n",
    "plt.xlabel(\"Latitude\")\n",
    "plt.ylabel(\"Cloudiness\")"
   ]
  },
  {
   "cell_type": "markdown",
   "metadata": {},
   "source": [
    "**Discussion about the linear relationship:** Southern Hemisphere is currently much more cloudy then the Northern Hemisphere with a nearly double r-value."
   ]
  },
  {
   "cell_type": "markdown",
   "metadata": {},
   "source": [
    "### Wind Speed vs. Latitude Linear Regression Plot"
   ]
  },
  {
   "cell_type": "code",
   "execution_count": 35,
   "metadata": {},
   "outputs": [
    {
     "name": "stdout",
     "output_type": "stream",
     "text": [
      "The r-value is: 0.007539002550007964\n"
     ]
    },
    {
     "data": {
      "text/plain": [
       "Text(0, 0.5, 'Wind Speed')"
      ]
     },
     "execution_count": 35,
     "metadata": {},
     "output_type": "execute_result"
    },
    {
     "data": {
      "image/png": "[encoded data removed]",
      "text/plain": [
       "<Figure size 432x288 with 1 Axes>"
      ]
     },
     "metadata": {
      "needs_background": "light"
     },
     "output_type": "display_data"
    }
   ],
   "source": [
    "# Northern Hemisphere\n",
    "n_h_w_s = linear_regrression(northern_hemi_df[\"Lat\"], northern_hemi_df[\"Wind Speed\"])\n",
    "plt.xlabel(\"Latitude\")\n",
    "plt.ylabel(\"Wind Speed\")"
   ]
  },
  {
   "cell_type": "code",
   "execution_count": 36,
   "metadata": {},
   "outputs": [
    {
     "name": "stdout",
     "output_type": "stream",
     "text": [
      "The r-value is: 0.12747665676572506\n"
     ]
    },
    {
     "data": {
      "text/plain": [
       "Text(0, 0.5, 'Wind Speed')"
      ]
     },
     "execution_count": 36,
     "metadata": {},
     "output_type": "execute_result"
    },
    {
     "data": {
      "image/png": "[encoded data removed]",
      "text/plain": [
       "<Figure size 432x288 with 1 Axes>"
      ]
     },
     "metadata": {
      "needs_background": "light"
     },
     "output_type": "display_data"
    }
   ],
   "source": [
    "# Southern Hemisphere\n",
    "s_h_w_s = linear_regrression(southern_hemi_df[\"Lat\"], southern_hemi_df[\"Wind Speed\"])\n",
    "plt.xlabel(\"Latitude\")\n",
    "plt.ylabel(\"Wind Speed\")"
   ]
  },
  {
   "cell_type": "markdown",
   "metadata": {},
   "source": [
    "**Discussion about the linear relationship:** Wind speed in the north is the same no matter where on the latitude you are with the slightest change of faster the further north you go. While the south the closer to the equator the slower the wind speeds are."
   ]
  },
  {
   "cell_type": "code",
   "execution_count": null,
   "metadata": {},
   "outputs": [],
   "source": []
  }
 ],
 "metadata": {
  "anaconda-cloud": {},
  "kernel_info": {
   "name": "python3"
  },
  "kernelspec": {
   "display_name": "Python 3 (ipykernel)",
   "language": "python",
   "name": "python3"
  },
  "language_info": {
   "codemirror_mode": {
    "name": "ipython",
    "version": 3
   },
   "file_extension": ".py",
   "mimetype": "text/x-python",
   "name": "python",
   "nbconvert_exporter": "python",
   "pygments_lexer": "ipython3",
   "version": "3.7.7"
  },
  "latex_envs": {
   "LaTeX_envs_menu_present": true,
   "autoclose": false,
   "autocomplete": true,
   "bibliofile": "biblio.bib",
   "cite_by": "apalike",
   "current_citInitial": 1,
   "eqLabelWithNumbers": true,
   "eqNumInitial": 1,
   "hotkeys": {
    "equation": "Ctrl-E",
    "itemize": "Ctrl-I"
   },
   "labels_anchors": false,
   "latex_user_defs": false,
   "report_style_numbering": false,
   "user_envs_cfg": false
  },
  "nteract": {
   "version": "0.12.3"
  }
 },
 "nbformat": 4,
 "nbformat_minor": 4
}
